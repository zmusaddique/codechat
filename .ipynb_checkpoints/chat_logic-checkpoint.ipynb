{
 "cells": [
  {
   "cell_type": "code",
   "execution_count": 1,
   "id": "08d34c04",
   "metadata": {},
   "outputs": [],
   "source": [
    "from index_helper import create_docs_and_nodes, create_vector_store"
   ]
  },
  {
   "cell_type": "code",
   "execution_count": 3,
   "id": "582ca069",
   "metadata": {},
   "outputs": [
    {
     "name": "stdout",
     "output_type": "stream",
     "text": [
      "loader loaded\n",
      "Loading chatbot-restaurant repository by zmusaddique\n",
      "Documents uploaded: \n",
      "{'file_path': 'FoodChatBot/db_helper.py', 'file_name': 'db_helper.py', 'url': 'https://github.com/zmusaddique/chatbot-restaurant/blob/main/FoodChatBot/db_helper.py'}\n",
      "{'file_path': 'FoodChatBot/frontend/frontend_server.py', 'file_name': 'frontend_server.py', 'url': 'https://github.com/zmusaddique/chatbot-restaurant/blob/main/FoodChatBot/frontend/frontend_server.py'}\n",
      "{'file_path': 'FoodChatBot/generic_helper.py', 'file_name': 'generic_helper.py', 'url': 'https://github.com/zmusaddique/chatbot-restaurant/blob/main/FoodChatBot/generic_helper.py'}\n",
      "{'file_path': 'FoodChatBot/main.py', 'file_name': 'main.py', 'url': 'https://github.com/zmusaddique/chatbot-restaurant/blob/main/FoodChatBot/main.py'}\n",
      "{'file_path': 'README.md', 'file_name': 'README.md', 'url': 'https://github.com/zmusaddique/chatbot-restaurant/blob/main/README.md'}\n",
      "{'file_path': 'backend/db_helper.py', 'file_name': 'db_helper.py', 'url': 'https://github.com/zmusaddique/chatbot-restaurant/blob/main/backend/db_helper.py'}\n",
      "{'file_path': 'backend/extra/extra.py', 'file_name': 'extra.py', 'url': 'https://github.com/zmusaddique/chatbot-restaurant/blob/main/backend/extra/extra.py'}\n",
      "{'file_path': 'backend/generic_helper.py', 'file_name': 'generic_helper.py', 'url': 'https://github.com/zmusaddique/chatbot-restaurant/blob/main/backend/generic_helper.py'}\n",
      "{'file_path': 'backend/main.py', 'file_name': 'main.py', 'url': 'https://github.com/zmusaddique/chatbot-restaurant/blob/main/backend/main.py'}\n"
     ]
    }
   ],
   "source": [
    "docs, nodes = create_docs_and_nodes('https://github.com/zmusaddique/chatbot-restaurant')"
   ]
  },
  {
   "cell_type": "code",
   "execution_count": 4,
   "id": "7bfe36cb",
   "metadata": {},
   "outputs": [
    {
     "data": {
      "application/vnd.jupyter.widget-view+json": {
       "model_id": "d31122df57cc478594420873a55462f4",
       "version_major": 2,
       "version_minor": 0
      },
      "text/plain": [
       "Generating embeddings:   0%|          | 0/9 [00:00<?, ?it/s]"
      ]
     },
     "metadata": {},
     "output_type": "display_data"
    }
   ],
   "source": [
    "vector_store = create_vector_store(docs, nodes)"
   ]
  },
  {
   "cell_type": "code",
   "execution_count": 6,
   "id": "f3363d99",
   "metadata": {},
   "outputs": [],
   "source": [
    "from index_helper import create_query_engine"
   ]
  },
  {
   "cell_type": "code",
   "execution_count": 8,
   "id": "c7c11126",
   "metadata": {},
   "outputs": [
    {
     "name": "stdout",
     "output_type": "stream",
     "text": [
      "Fusion starting\n"
     ]
    },
    {
     "name": "stderr",
     "output_type": "stream",
     "text": [
      "100%|█████████████████████████████████████████████| 6/6 [00:00<00:00, 81.84it/s]\n"
     ]
    }
   ],
   "source": [
    "print(\"Fusion starting\")\n",
    "query_engine = await create_query_engine(vector_store, nodes)"
   ]
  },
  {
   "cell_type": "code",
   "execution_count": 13,
   "id": "1db91a75",
   "metadata": {},
   "outputs": [
    {
     "name": "stderr",
     "output_type": "stream",
     "text": [
      "100%|█████████████████████████████████████████████| 6/6 [00:00<00:00, 85.12it/s]\n"
     ]
    },
    {
     "name": "stdout",
     "output_type": "stream",
     "text": [
      "\n",
      "This repository contains a Dialogflow chatbot implemented using FastAPI for the backend server. The chatbot allows users to interact with it for placing food orders, tracking orders, adding and removing items from their order, and completing orders. The project includes a FastAPI server, database helper functions, and generic helper functions. The Dialogflow agent is configured to use the FastAPI server as a webhook for fulfillment.\n",
      "Please enter your question (enter 'exit' to quit)exit\n"
     ]
    }
   ],
   "source": [
    "query_str = \"What is the repository about?\"\n",
    "response = query_engine.query(query_str)\n",
    "print(str(response))\n",
    "while True:\n",
    "    query_str = input(\"Please enter your question (enter 'exit' to quit)\")\n",
    "    if query_str.lower() == 'exit':\n",
    "        break\n",
    "    response = query_engine.query(query_str)\n",
    "    print(str(response))"
   ]
  },
  {
   "cell_type": "code",
   "execution_count": null,
   "id": "84c4550d",
   "metadata": {},
   "outputs": [],
   "source": [
    "docs, nodes = create_docs_and_nodes('https://github.com/zmusaddique/chatbot-restaurant')"
   ]
  }
 ],
 "metadata": {
  "kernelspec": {
   "display_name": "Python 3 (ipykernel)",
   "language": "python",
   "name": "python3"
  },
  "language_info": {
   "codemirror_mode": {
    "name": "ipython",
    "version": 3
   },
   "file_extension": ".py",
   "mimetype": "text/x-python",
   "name": "python",
   "nbconvert_exporter": "python",
   "pygments_lexer": "ipython3",
   "version": "3.10.12"
  }
 },
 "nbformat": 4,
 "nbformat_minor": 5
}
